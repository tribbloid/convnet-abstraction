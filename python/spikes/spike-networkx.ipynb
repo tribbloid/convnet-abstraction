{
 "cells": [
  {
   "cell_type": "code",
   "execution_count": null,
   "metadata": {},
   "outputs": [],
   "source": [
    "import matplotlib.pyplot as plot\n",
    "import networkx as nx\n",
    "\n",
    "g = nx.DiGraph(directed=True)\n",
    "\n",
    "g.add_node(\"ROOT\")\n",
    "\n",
    "for i in range(5):\n",
    "    g.add_node(\"Child_%i\" % i)\n",
    "    g.add_node(\"Grandchild_%i\" % i)\n",
    "    g.add_node(\"Greatgrandchild_%i\" % i)\n",
    "\n",
    "    g.add_edge(\"ROOT\", \"Child_%i\" % i)\n",
    "    g.add_edge(\"Child_%i\" % i, \"Grandchild_%i\" % i)\n",
    "    g.add_edge(\"Grandchild_%i\" % i, \"Greatgrandchild_%i\" % i)\n",
    "\n",
    "# write dot file to use with graphviz\n",
    "# run \"dot -Tpng test.dot >test.png\"\n",
    "# write_dot(G,'test.dot')\n",
    "\n",
    "# same layout using matplotlib with no labels\n",
    "plot.title('draw_networkx')\n",
    "pos = nx.drawing.nx_agraph.graphviz_layout(g, prog='dot')\n",
    "nx.draw(g, pos, with_labels=True, arrows=True)\n",
    "\n",
    "plot.show()"
   ]
  },
  {
   "cell_type": "code",
   "execution_count": null,
   "metadata": {},
   "outputs": [],
   "source": [
    "import matplotlib.pyplot as plot\n",
    "import networkx as nx\n",
    "\n",
    "g = nx.DiGraph(directed=True)\n",
    "\n",
    "n = 'data'\n",
    "n2 = ' data'\n",
    "f = 'function'\n",
    "f2 = ' function'\n",
    "o = 'operator'\n",
    "c = 'operator\\n(currying)'\n",
    "fl = 'functional'\n",
    "\n",
    "g.add_nodes_from([n])\n",
    "\n",
    "g.add_nodes_from([f, fl, o, c])\n",
    "\n",
    "g.add_nodes_from([n2, f2])\n",
    "\n",
    "g.add_edge(n, f, middle=True)\n",
    "g.add_edge(f, n2)\n",
    "g.add_edge(f, o, middle=True)\n",
    "g.add_edge(o, f2)\n",
    "g.add_edge(f, fl, middle=True)\n",
    "g.add_edge(fl, n2)\n",
    "g.add_edge(n, c, middle=True)\n",
    "g.add_edge(c, f2)\n",
    "\n",
    "nodeOpt = {\n",
    "    # 'node_color': 'blue',\n",
    "    'pos': nx.drawing.nx_agraph.graphviz_layout(g, prog='dot'),\n",
    "    # 'ax': ax,\n",
    "    # 'node_size': 5000,\n",
    "    'node_shape': \"o\",\n",
    "    # 'clip_on': False,\n",
    "    # 'Rotate': False,\n",
    "    'font_family': 'humor sans'\n",
    "}\n",
    "arrowHeadOpt = {\n",
    "    **nodeOpt,\n",
    "    'width': 2,\n",
    "    'arrowstyle': 'wedge',\n",
    "    'arrowsize': 30,\n",
    "}\n",
    "arrowTailOpt = {\n",
    "    **arrowHeadOpt,\n",
    "    'arrowstyle': '-|>',\n",
    "}\n",
    "\n",
    "with plot.xkcd():\n",
    "    fig,ax = plot.subplots(1)\n",
    "    ax.set_ylabel('go up')\n",
    "    ax.set_xlabel('go right')\n",
    "\n",
    "\n",
    "    # nx.drawing.draw_networkx_nodes(g, arrows=True, **options)\n",
    "    nx.drawing.draw_networkx_labels(g, arrows=True, **nodeOpt)\n",
    "\n",
    "    edges = g.edges.data()\n",
    "    attrs = nx.get_edge_attributes(g, 'middle')\n",
    "\n",
    "    heads = [e for e in edges if ('middle' in e[2])]\n",
    "    nx.drawing.draw_networkx_edges(g, edgelist=heads, arrows=True, **arrowHeadOpt)\n",
    "\n",
    "    tails = [e for e in edges if ('middle' not in e[2])]\n",
    "    nx.drawing.draw_networkx_edges(g, edgelist=tails, arrows=True, **arrowTailOpt)\n",
    "    # nx.drawing.draw_networkx_edge_labels(\n",
    "    #     G,\n",
    "    #     edge_labels=nx.get_edge_attributes(G, 'label'),\n",
    "    #     **options\n",
    "    # )\n",
    "\n",
    "# plot.axis('off')\n",
    "plot.show()\n",
    "\n"
   ]
  },
  {
   "cell_type": "code",
   "execution_count": 3,
   "metadata": {
    "lines_to_next_cell": 3
   },
   "outputs": [
    {
     "name": "stdout",
     "output_type": "stream",
     "text": [
      "<class 'matplotlib.axes._subplots.AxesZeroSubplot'>\n"
     ]
    },
    {
     "data": {
      "image/png": "[encoded data removed]",
      "text/plain": [
       "<Figure size 432x288 with 1 Axes>"
      ]
     },
     "metadata": {
      "needs_background": "light"
     },
     "output_type": "display_data"
    }
   ],
   "source": [
    "from mpl_toolkits.axisartist.axislines import SubplotZero\n",
    "import matplotlib.pyplot as plt\n",
    "import numpy as np\n",
    "\n",
    "if 1:\n",
    "    fig = plt.figure(1)\n",
    "    ax = SubplotZero(fig, 111)\n",
    "    print(type(ax))\n",
    "    fig.add_subplot(ax)\n",
    "\n",
    "    for direction in [\"xzero\", \"yzero\"]:\n",
    "        # adds arrows at the ends of each axis\n",
    "        ax.axis[direction].set_axisline_style(\"-|>\")\n",
    "\n",
    "        # adds X and Y-axis from the origin\n",
    "        ax.axis[direction].set_visible(True)\n",
    "\n",
    "    for direction in [\"left\", \"right\", \"bottom\", \"top\"]:\n",
    "        # hides borders\n",
    "        ax.axis[direction].set_visible(False)\n",
    "\n",
    "    x = np.linspace(-0.5, 1., 100)\n",
    "    ax.plot(x, np.sin(x*np.pi))\n",
    "\n",
    "    plt.show()"
   ]
  },
  {
   "cell_type": "code",
   "execution_count": null,
   "metadata": {},
   "outputs": [],
   "source": []
  }
 ],
 "metadata": {
  "jupytext": {
   "text_representation": {
    "extension": ".py",
    "format_name": "percent",
    "format_version": "1.2",
    "jupytext_version": "0.8.6"
   }
  },
  "kernelspec": {
   "display_name": "Python 3",
   "language": "python",
   "name": "python3"
  },
  "language_info": {
   "codemirror_mode": {
    "name": "ipython",
    "version": 3
   },
   "file_extension": ".py",
   "mimetype": "text/x-python",
   "name": "python",
   "nbconvert_exporter": "python",
   "pygments_lexer": "ipython3",
   "version": "3.6.7"
  }
 },
 "nbformat": 4,
 "nbformat_minor": 2
}
