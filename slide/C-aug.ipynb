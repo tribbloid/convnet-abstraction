{
 "cells": [
  {
   "cell_type": "markdown",
   "metadata": {
    "slideshow": {
     "slide_type": "slide"
    }
   },
   "source": [
    "# ConvNet Abstraction"
   ]
  },
  {
   "cell_type": "markdown",
   "metadata": {},
   "source": [
    "## Overview"
   ]
  },
  {
   "cell_type": "code",
   "execution_count": null,
   "metadata": {},
   "outputs": [],
   "source": [
    "%load_ext autoreload\n",
    "%autoreload 2"
   ]
  },
  {
   "cell_type": "code",
   "execution_count": null,
   "metadata": {},
   "outputs": [],
   "source": [
    "import os\n",
    "import sys\n",
    "import networkx as nx\n",
    "\n",
    "from graphPlot import drawGraph\n",
    "from const import *\n",
    "\n",
    "if '' in sys.path:\n",
    "    sys.path.remove('')\n",
    "\n",
    "module_path = os.path.abspath(os.path.join('..'))\n",
    "if module_path not in sys.path:\n",
    "    sys.path.append(module_path)\n",
    "\n",
    "print(sys.path)\n",
    "\n",
    "plt.rcParams['figure.figsize'] = [10, 10]"
   ]
  },
  {
   "cell_type": "markdown",
   "metadata": {},
   "source": [
    "## Data Augmentation\n",
    "\n",
    "- is a higher-order function$*$, specifically, a unary (arity=1) operator: $A_{ug}$ that change a signal to anther signal\n",
    "    - (as in \"Laplace operator\" & \"operator overloading\")"
   ]
  },
  {
   "cell_type": "code",
   "execution_count": null,
   "metadata": {},
   "outputs": [],
   "source": [
    "\n",
    "g = nx.DiGraph(directed=True)\n",
    "\n",
    "n = 'numbers'\n",
    "n2 = ' numbers'\n",
    "f = 'function'\n",
    "f2 = ' function'\n",
    "o = 'operator*'\n",
    "c = 'currying*'\n",
    "fl = 'functional*'\n",
    "\n",
    "g.add_nodes_from([n])\n",
    "g.add_nodes_from([f, fl, o, c])\n",
    "g.add_nodes_from([n2, f2])\n",
    "\n",
    "g.add_edge(n, f, wedge=True)\n",
    "g.add_edge(f, n2)\n",
    "g.add_edge(f, o, wedge=True)\n",
    "g.add_edge(o, f2)\n",
    "g.add_edge(f, fl, wedge=True)\n",
    "g.add_edge(fl, n2)\n",
    "g.add_edge(n, c, wedge=True)\n",
    "g.add_edge(c, f2)\n",
    "\n",
    "drawGraph(g, font='humor sans', arrow='-|>')\n",
    "\n",
    "plt.show()"
   ]
  },
  {
   "cell_type": "code",
   "execution_count": null,
   "metadata": {},
   "outputs": [],
   "source": [
    "list(map(lambda x: x * x, range(1, 5)))  # Map: (R -> R) -> (R^n -> R^n)"
   ]
  },
  {
   "cell_type": "markdown",
   "metadata": {},
   "source": [
    "- can be applied to an ordindary function: $A_{ug} \\circ f(x)$\n",
    "\n",
    "- can be applied with operand delimiter to a multivariable function: $A_{ug}|_{x} \\circ U_{ag}|_{y} \\circ w(x, y)$"
   ]
  },
  {
   "cell_type": "markdown",
   "metadata": {},
   "source": [
    "## Data Augmentation\n",
    "\n",
    "Is very situational:\n",
    "    \n",
    "- With gravity vs without gravity\n",
    "\n",
    "- [insert pictures]"
   ]
  },
  {
   "cell_type": "markdown",
   "metadata": {},
   "source": [
    "## Data Augmentation\n",
    "\n",
    "Is very situational:\n",
    "    \n",
    "- Fixed air pressure vs dependent air pressure\n",
    "\n",
    "- [Insert pictures]"
   ]
  },
  {
   "cell_type": "markdown",
   "metadata": {},
   "source": [
    "## Data Augmentation\n",
    "\n",
    "Hypothesis 1 (**equivariance**): Should be applicable to any layer"
   ]
  },
  {
   "cell_type": "code",
   "execution_count": null,
   "metadata": {},
   "outputs": [],
   "source": [
    "\n",
    "\n",
    "g = nx.DiGraph(directed=True)\n",
    "\n",
    "fs = [\n",
    "    \"$f(.)$\",\n",
    "    \"$f_+(.)$\",\n",
    "    \"$f_{++}(.)$\",\n",
    "    \"$f_{+++}(.)$\",\n",
    "    \"...\"\n",
    "]\n",
    "\n",
    "afs = [\n",
    "    \"$A_{ug} \\circ f(.)$\",\n",
    "    \"$U_{ga} \\circ f_+(.)$\",\n",
    "    \"$G_{au} \\circ f_{++}(.)$\",\n",
    "    \"$A_{gu} \\circ f_{++}(.)$\",\n",
    "    \" ... \"\n",
    "]\n",
    "\n",
    "for i in range(0, 4):\n",
    "    g.add_edge(fs[i], fs[i + 1], text='||')\n",
    "    g.add_edge(afs[i], afs[i + 1], text='||')\n",
    "#     g.add_edge(fs[i], afs[i])\n",
    "\n",
    "g2 = g.copy()\n",
    "\n",
    "for i in range(0, 4):\n",
    "    g2.add_edge(fs[i], afs[i], text='Augment')\n",
    "\n",
    "g2.add_edge(afs[0], fs[1], text='Invariant || (DON\\'T DO THIS)')\n",
    "\n",
    "drawGraph(g2, font='humor sans', layoutG=g)\n",
    "\n",
    "plt.show()"
   ]
  },
  {
   "cell_type": "markdown",
   "metadata": {},
   "source": [
    "## Data Augmentation\n",
    "\n",
    "Hypothesis 1 (equivariance): Should be applicable to any layer\n",
    "\n",
    "$$\n",
    "U_{ga} \\circ f_+(y) = U_{ga}|_y \\circ <f(x), w(x, y)> dx = <A_{ug} \\circ f(x), w(x, y)> dx\n",
    "$$\n",
    "\n",
    "Hypothesis 2 (**transitivity**): in any signal we can find a reference point $x_0$, such that values of **any other points** can be found on $x_0$ of an augmented signal:\n",
    "\n",
    "$$\n",
    "\\forall x : f(x) = \\Big( \\bar{A}_{ug} \\circ f(x) \\Big) (x_0)\n",
    "$$\n",
    "\n",
    "What does that even mean?\n",
    "\n",
    "-- [insert pictures that demonstrates transitive augmentation]\n"
   ]
  },
  {
   "cell_type": "markdown",
   "metadata": {
    "lines_to_next_cell": 2
   },
   "source": [
    "## Data Augmentation\n",
    "\n",
    "Hypothesis 1 (equivariance): Should be applicable to any layer\n",
    "\n",
    "$$\n",
    "U_{ga} \\circ f_+(y) = U_{ga}|_y \\circ <f(x), w(x, y)> dx = <A_{ug} \\circ f(x), w(x, y)> dx\n",
    "$$\n",
    "\n",
    "Hypothesis 2 (transitivity): in any signal we can find a reference point $x_0$, such that values of **any other points** can be found on $x_0$ of an augmented signal:\n",
    "\n",
    "$$\n",
    "\\forall x : f(x) = \\Big( \\bar{A}_{ug} \\circ f(x) \\Big) (x_0)\n",
    "$$\n",
    "\n",
    "**Combining all together**:\n",
    "\n",
    "$$\n",
    "f_+(y) = \\Big( \\bar{U}_{ga} \\circ f_+(y) \\Big)(y_0) = <\\bar{A}_{ug} \\circ f(x), w(x, y_0)> dx = <\\bar{A}_{ug} \\circ f(x), w_0(x)> dx\n",
    "$$\n",
    "\n",
    "Looks familiar yet?\n",
    "\n",
    "$$\n",
    "conv(f(- \\Delta), w_0(\\Delta)) = corr(f(\\Delta), w_0(\\Delta)) = \\int\\limits_{x \\in \\text{Manifold}} f(\\Delta + x) w_0(x) d x = <f(\\Delta + x), w_0(x)> d x\n",
    "$$\n",
    "\n"
   ]
  },
  {
   "cell_type": "markdown",
   "metadata": {},
   "source": [
    "## Data Augmentation\n",
    "\n",
    "- Looks like ConvNet is a FC Net with translation as family of augmentations!\n",
    "\n",
    "- Still feel strange? Let's do a thought experiment:\n",
    "\n",
    "    - Assuming you start with a deep FC-ResNet, with all weights initialized to 0\n",
    "    - Then you run back-propagation once, but this time instead of using 1 picture at time, you use a minibatch consisting of **all augmented pictures** (including the original one)\n",
    "    - What will be the weight?\n"
   ]
  },
  {
   "cell_type": "markdown",
   "metadata": {},
   "source": []
  },
  {
   "cell_type": "markdown",
   "metadata": {},
   "source": []
  },
  {
   "cell_type": "markdown",
   "metadata": {
    "slideshow": {
     "slide_type": "slide"
    }
   },
   "source": [
    "## Glossary\n",
    "\n",
    "- A monoid is anything compatible with MapReduce\n",
    "\n",
    "```python\n",
    "apple.merge(pen).merge(pineapple).merge(pen).merge(face).merge(palm) =\n",
    "apple.merge(pen)                    # core 1\n",
    "  .merge(pineapple.merge(pen))      # core 2\n",
    "  .merge(face.merge(palm))          # core 3\n",
    "```"
   ]
  },
  {
   "cell_type": "markdown",
   "metadata": {},
   "source": [
    "## Glossary\n",
    "\n",
    "- A group member is an invertible monoid\n",
    "\n",
    "```python\n",
    "pineapplepen.merge(-pen) = pineapple\n",
    "```\n",
    "\n",
    "A commutative (Abelian) monoid/group member is an monoid i which order of reduce doesn't matter\n",
    "\n",
    "```python\n",
    "pineapple.merge(pen) = pen.merge(pineapple)\n",
    "```"
   ]
  },
  {
   "cell_type": "markdown",
   "metadata": {
    "lines_to_next_cell": 2
   },
   "source": [
    "## Glossary\n",
    "\n",
    "- Higher-order function (a.k.a. operator) is \n",
    "- Group action is an operator that is also a group member\n",
    "\n"
   ]
  },
  {
   "cell_type": "markdown",
   "metadata": {
    "slideshow": {
     "slide_type": "slide"
    }
   },
   "source": [
    "## What is conv? (actually cross-correlation)\n",
    "\n",
    "assuming f_1, f_2: (F = R^n => S)\n",
    "\n",
    "defined for an operator A: F => F\n",
    "\n",
    "conv(f_1, f_2)(A) = <f_1(x), A {f_2(x)}> dx: (F => F) => S\n",
    "\n",
    "The common assumption is that operator A can be broken into left AL and right AR:\n",
    "\n",
    "A {f(x)} = AL(f(AR(x)))"
   ]
  },
  {
   "cell_type": "markdown",
   "metadata": {},
   "source": [
    "## How does it help? - Equivariance\n",
    "\n",
    "... define equivariance"
   ]
  },
  {
   "cell_type": "markdown",
   "metadata": {},
   "source": []
  }
 ],
 "metadata": {
  "jupytext": {
   "text_representation": {
    "extension": ".py",
    "format_name": "percent",
    "format_version": "1.2",
    "jupytext_version": "0.8.6"
   }
  },
  "kernelspec": {
   "display_name": "Python 3",
   "language": "python",
   "name": "python3"
  },
  "language_info": {
   "codemirror_mode": {
    "name": "ipython",
    "version": 3
   },
   "file_extension": ".py",
   "mimetype": "text/x-python",
   "name": "python",
   "nbconvert_exporter": "python",
   "pygments_lexer": "ipython3",
   "version": "3.6.7"
  }
 },
 "nbformat": 4,
 "nbformat_minor": 2
}
