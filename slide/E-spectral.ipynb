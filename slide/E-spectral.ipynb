{
 "cells": [
  {
   "cell_type": "code",
   "execution_count": 17,
   "metadata": {},
   "outputs": [
    {
     "name": "stdout",
     "output_type": "stream",
     "text": [
      "The autoreload extension is already loaded. To reload it, use:\n",
      "  %reload_ext autoreload\n"
     ]
    }
   ],
   "source": [
    "%load_ext autoreload\n",
    "%autoreload 2\n",
    "%matplotlib inline"
   ]
  },
  {
   "cell_type": "code",
   "execution_count": 18,
   "metadata": {},
   "outputs": [],
   "source": [
    "import os\n",
    "import sys\n",
    "from typing import Tuple\n",
    "\n",
    "from dataclasses import dataclass\n",
    "\n",
    "if '' in sys.path:\n",
    "    sys.path.remove('')\n",
    "\n",
    "module_path = os.path.abspath(os.path.join('../python'))\n",
    "if module_path not in sys.path:\n",
    "    sys.path.append(module_path)\n",
    "\n",
    "# print(sys.path)\n",
    "\n",
    "import networkx as nx\n",
    "\n",
    "from graphPlot import drawGraph, SIZE\n",
    "from const import *\n",
    "\n",
    "plt.rcParams['figure.figsize'] = SIZE\n",
    "# print(plt.rcParams['figure.figsize'])"
   ]
  },
  {
   "cell_type": "markdown",
   "metadata": {
    "lines_to_next_cell": 2
   },
   "source": [
    "## Harmonic Net (CVPR 2017*)\n",
    "\n",
    "| - | Input $f(x)$ | High-level $f_+(y)$, $f_{++}(z)$, ... | Augmentation $A_{ug}$, $U_{ga}$, ...\n",
    "| --- |---|---|---\n",
    "| domain | $R^2$ | $O(2)$ | $O(2) \\cong R^2 \\times SO(2)$ (translation, arbitrary rotation)\n",
    "\n",
    "---\n",
    "\n",
    "- Size of filter bank become really annoying, can't take it any more\n",
    "\n",
    "- First algorithm to use spectral decomposition as a weight compressor\n",
    "\n",
    "---\n",
    "\n",
    "[*] D. E. Worrall, S. J. Garbin, D. Turmukhambetov, and G. J. Brostow, “Harmonic Networks: Deep Translation and Rotation Equivariance” CVPR 2017, vol. 2017–Jan, pp. 7168–7177."
   ]
  },
  {
   "cell_type": "markdown",
   "metadata": {},
   "source": [
    "## Going Spectral\n",
    "\n",
    "- function is like infinite-dimension vector\n",
    "\n",
    "- Spectral decomposition for functions is like eigen-decomposition for vectors\n",
    "\n",
    "---\n",
    "\n",
    "*orthonormal basis*: given a function domain $X \\longrightarrow C$, there may exist a (likely infinite) series of bases ${u_1, u_2, ...}$ that are both:\n",
    "\n",
    "- **complete**: linear combination can approximate arbitrary function on the domain\n",
    "    \n",
    "$$\n",
    "f(.) = \\sum_{\\forall i} \\phi_i u_i(.) = \\Big[ \\phi_1, \\phi_2, ... \\Big]\n",
    "\\begin{bmatrix}\n",
    "    u_1(.) \\\\\n",
    "    u_2(.) \\\\\n",
    "    ...\n",
    "\\end{bmatrix}\n",
    "$$\n",
    "\n",
    "- ... and **orthonormal**: have unit norms and orthogonal to each other\n",
    "\n",
    "$$\n",
    "<u_i(.), u_j(.)> = I_{ij} \\text{  (Kronecker delta)}\n",
    "$$\n",
    "\n",
    "- ... which implies:\n",
    "\n",
    "$$\n",
    "\\phi_i = \\widehat{f}(i) = <f(.), u_i(.)> \\text{  (GFT)}\n",
    "$$"
   ]
  },
  {
   "cell_type": "markdown",
   "metadata": {},
   "source": [
    "## Going Spectral - What's the point?\n",
    "\n",
    "Remember G-conv?\n",
    "\n",
    "\\begin{align}\n",
    "& & f_+(y) &= <A_{ug} \\circ f(x), w_0(x)>_x \\\\\n",
    "& & &= \\sum_i \\sum_j \\widehat{A_{ug} \\circ f}(i) \\widehat{w_0}(j) <u_i(.), u_j(.)> \\\\\n",
    "&\\text{(orthonormal components ignored)} & &= \\sum_i \\widehat{A_{ug} \\circ f}(i) \\widehat{w_0}(i) \\\\\n",
    "&\\text{(GFT)} & &= \\sum_i < A_{ug} \\circ f(x), u_i(x) >_x \\cdot < w_0(x), u_i(x) >_x\n",
    "\\end{align}\n"
   ]
  },
  {
   "cell_type": "markdown",
   "metadata": {},
   "source": [
    "## Going Spectral - Weight Compressor\n",
    "\n",
    "If luckily $A_{ug}$ is linear (sorry more equations):\n",
    "\n",
    "\\begin{align}\n",
    "&\\text{(bijectory)} & \\widehat{f_+}(j) &= \\sum_i \\Big< < \\bbox[yellow]{A_{ug}(y)} \\circ f(x), u_i(x) >_x \\Big| u_j(y) \\Big>_y \\cdot < w_0(x), u_i(x) >_x \\\\\n",
    "&\\text{(linear)} & &= \\sum_i < u_j(y), A_{ug}(y)>_y \\circ < f(x), u_i(x) >_x \\cdot < w_0(x), u_i(x) >_x \\\\\n",
    "& & &= < \\widehat{A_{ug}}(j) \\circ \\widehat{f}(i), \\widehat{w_0}(i) >_i \\text{  (looks like convolution theorem still works here)} \\\\\n",
    "& \\text{(ONLY IF $A_{ug}$ is also distance-preserving)} & &= <\\widehat{f}(i), \\widehat{A_{ug}^{-1}}(j) \\circ \\widehat{w_0}(i) >_i \n",
    "\\end{align}\n",
    "\n",
    "Convnet layers are small and use low-frequency features, so:\n",
    "\n",
    "- size of $i, j$ can be absurdly small\n",
    "\n",
    "- "
   ]
  },
  {
   "cell_type": "markdown",
   "metadata": {},
   "source": [
    "## Harmonic Net (CVPR 2017*)\n",
    "\n",
    "| - | Input $f(x)$ | High-level $f_+(y)$, $f_{++}(z)$, ... | Augmentation $A_{ug}$, $U_{ga}$, ...\n",
    "| --- |---|---|---\n",
    "| domain | $R^2$ | $O(2)$ | $O(2) \\cong R^2 \\times SO(2)$ (translation, arbitrary rotation)\n",
    "\n",
    "---\n",
    "\n",
    "- $u_i(x) \\longleftarrow e^{i(x[0] + i x[1])}$ (2D Fourier series)\n",
    "- GFT $\\longleftarrow$ FT (with Gaussian resampling)\n",
    "- $size(i) \\longleftarrow 2$\n",
    "\n",
    "\n",
    "\n",
    "---\n",
    "\n",
    "[*] D. E. Worrall, S. J. Garbin, D. Turmukhambetov, and G. J. Brostow, “Harmonic Networks: Deep Translation and Rotation Equivariance” CVPR 2017, vol. 2017–Jan, pp. 7168–7177."
   ]
  },
  {
   "cell_type": "markdown",
   "metadata": {},
   "source": [
    "## Harmonic Net (CVPR 2017*)\n",
    "\n",
    "| - | Input $f(x)$ | High-level $f_+(y)$, $f_{++}(z)$, ... | Augmentation $A_{ug}$, $U_{ga}$, ...\n",
    "| --- |---|---|---\n",
    "| domain | $R^2$ | $O(2)$ | $O(2) \\cong R^2 \\times SO(2)$ (translation, arbitrary rotation)\n",
    "\n",
    "---\n",
    "\n",
    "\n",
    "\n",
    "---\n",
    "\n",
    "[*] D. E. Worrall, S. J. Garbin, D. Turmukhambetov, and G. J. Brostow, “Harmonic Networks: Deep Translation and Rotation Equivariance” CVPR 2017, vol. 2017–Jan, pp. 7168–7177."
   ]
  },
  {
   "cell_type": "markdown",
   "metadata": {},
   "source": [
    "## Spherical CNNs (ICLR 2018* best paper)\n",
    "\n",
    "| - | Input $f(x)$ | High-level $f_+(y)$, $f_{++}(z)$, ... | Augmentation $A_{ug}$, $U_{ga}$, ...\n",
    "| --- |---|---|---\n",
    "| domain | $R^2$ | $O(2)$ | $O(2) \\cong R^2 \\times SO(2)$ (translation, arbitrary rotation)\n",
    "\n",
    "---\n",
    "\n",
    "\n",
    "\n",
    "---"
   ]
  }
 ],
 "metadata": {
  "jupytext": {
   "text_representation": {
    "extension": ".py",
    "format_name": "percent",
    "format_version": "1.2",
    "jupytext_version": "0.8.6"
   }
  },
  "kernelspec": {
   "display_name": "Python 3",
   "language": "python",
   "name": "python3"
  },
  "language_info": {
   "codemirror_mode": {
    "name": "ipython",
    "version": 3
   },
   "file_extension": ".py",
   "mimetype": "text/x-python",
   "name": "python",
   "nbconvert_exporter": "python",
   "pygments_lexer": "ipython3",
   "version": "3.6.8"
  }
 },
 "nbformat": 4,
 "nbformat_minor": 2
}
