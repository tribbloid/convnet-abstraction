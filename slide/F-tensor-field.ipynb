{
 "cells": [
  {
   "cell_type": "code",
   "execution_count": 17,
   "metadata": {},
   "outputs": [
    {
     "name": "stdout",
     "output_type": "stream",
     "text": [
      "The autoreload extension is already loaded. To reload it, use:\n",
      "  %reload_ext autoreload\n"
     ]
    }
   ],
   "source": [
    "%load_ext autoreload\n",
    "%autoreload 2\n",
    "%matplotlib inline"
   ]
  },
  {
   "cell_type": "code",
   "execution_count": 18,
   "metadata": {},
   "outputs": [],
   "source": [
    "import os\n",
    "import sys\n",
    "from typing import Tuple\n",
    "\n",
    "from dataclasses import dataclass\n",
    "\n",
    "if '' in sys.path:\n",
    "    sys.path.remove('')\n",
    "\n",
    "module_path = os.path.abspath(os.path.join('../python'))\n",
    "if module_path not in sys.path:\n",
    "    sys.path.append(module_path)\n",
    "\n",
    "# print(sys.path)\n",
    "\n",
    "import networkx as nx\n",
    "\n",
    "from graphPlot import drawGraph, SIZE\n",
    "from const import *\n",
    "\n",
    "plt.rcParams['figure.figsize'] = SIZE\n",
    "# print(plt.rcParams['figure.figsize'])"
   ]
  },
  {
   "cell_type": "markdown",
   "metadata": {
    "lines_to_next_cell": 2
   },
   "source": [
    "## Harmonic Net (CVPR 2017*)\n",
    "\n",
    "| - | Input $f(x)$ | High-level $f_+(y)$, $f_{++}(z)$, ... | Augmentation $A_{ug}$, $U_{ga}$, ...\n",
    "| --- |---|---|---\n",
    "| domain | $R^2$ | $O(2)$ | $O(2) \\cong R^2 \\times SO(2)$ (translation, arbitrary rotation)\n",
    "\n",
    "---\n",
    "\n",
    "- Size of filter bank become really annoying, can't take it any more\n",
    "\n",
    "- First algorithm to use spectral decomposition as a weight compressor\n",
    "\n",
    "---\n",
    "\n",
    "[*] D. E. Worrall, S. J. Garbin, D. Turmukhambetov, and G. J. Brostow, “Harmonic Networks: Deep Translation and Rotation Equivariance,” CVPR 2017, vol. 2017–Jan, pp. 7168–7177."
   ]
  },
  {
   "cell_type": "markdown",
   "metadata": {},
   "source": [
    "## Going Spectral\n",
    "\n",
    "- function is like infinite-dimension vector\n",
    "\n",
    "- Spectral decomposition on functions is like eigen decomposition on vectors\n",
    "\n",
    "---\n",
    "\n",
    "This gives 2 things (sorry more equations):\n",
    "\n",
    "- **orthonormal basis**: given a type of signals ${f}: X \\longrightarrow Y$, sometimes it is possible to find a (probably infinite) series of eigen-functions ${\\beta_1, \\beta_2, ...}$ that satisfy:\n",
    "\n",
    "    - *orthonormality*: $<\\beta_i(x), \\beta_j(x)>_x = \\delta_{ij}$ (Kronecker delta, or infinitely-big $I$)\n",
    "\n",
    "    - *completeness*: their linear combination can approximate arbitrary signal of such type\n",
    "\n",
    "$$\n",
    "f(x) = \\sum_{i=1}^{\\infty} \\phi_i \\beta_i(x)\n",
    "$$"
   ]
  },
  {
   "cell_type": "markdown",
   "metadata": {},
   "source": [
    "## Going Spectral - Orthonormal basis\n",
    "\n",
    "- **orthonormal basis**: given a type of signals ${f}: X \\longrightarrow Y$, sometimes it is possible to find a (probably infinite) series of eigen-functions ${\\beta_1, \\beta_2, ...}$ that satisfies:\n",
    "\n",
    "    - *orthonormality*: $<\\beta_i(x), \\beta_j(x)>_x = \\delta_{ij}$ (Kronecker delta, or infinitely-big $I$)\n",
    "\n",
    "    - *completeness*: their linear combination can approximate arbitrary signal of such type"
   ]
  },
  {
   "cell_type": "markdown",
   "metadata": {},
   "source": [
    "## Spherical CNNs (ICLR 2018* best paper award)\n",
    "\n",
    "| - | Input $f(x)$ | High-level $f_+(y)$, $f_{++}(z)$, ... | Augmentation $A_{ug}$, $U_{ga}$, ...\n",
    "| --- |---|---|---\n",
    "| domain | $R^2$ | $O(2)$ | $O(2) \\cong R^2 \\times SO(2)$ (translation, arbitrary rotation)\n",
    "\n",
    "---\n",
    "\n",
    "---"
   ]
  }
 ],
 "metadata": {
  "jupytext": {
   "text_representation": {
    "extension": ".py",
    "format_name": "percent",
    "format_version": "1.2",
    "jupytext_version": "0.8.6"
   }
  },
  "kernelspec": {
   "display_name": "Python 3",
   "language": "python",
   "name": "python3"
  },
  "language_info": {
   "codemirror_mode": {
    "name": "ipython",
    "version": 3
   },
   "file_extension": ".py",
   "mimetype": "text/x-python",
   "name": "python",
   "nbconvert_exporter": "python",
   "pygments_lexer": "ipython3",
   "version": "3.6.8"
  }
 },
 "nbformat": 4,
 "nbformat_minor": 2
}
