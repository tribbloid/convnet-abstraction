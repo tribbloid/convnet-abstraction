{
 "cells": [
  {
   "cell_type": "markdown",
   "metadata": {},
   "source": [
    "## Equivariance\n",
    "\n",
    "input f(x): (F = R^n => S) (can be a graph, use R^n for generalisability)\n",
    "fully connected layer w(x, x+): R^n x R^n => S\n",
    "morphing operator: A {f(x)} = AL(f(AR(x))): F => F\n",
    "\n",
    "output g(x+): R^n => S = <f(x), w(x, x+)> dx\n",
    "\n",
    "equivariant condition: <A {f(x)}, w(x, x+)> dx = Q {<f(x), w(x, x+)> dx}    \\forall f(x)\n",
    "\n",
    "assuming only AR is in consideration (e.g. a translation):\n",
    "\n",
    "<f(AR x), w(x, x+)> dx = <f(x), w(x, QR x+))> dx\n",
    "\n",
    "<f(x), w(AR^-1 x, x+)> dx = <f(x), w(x, QR x+))> dx     \\forall f(x)\n",
    "\n",
    "<f(x), w(AR^-1 x, QR^-1 y+)> dx = <f(x), w(x, y+))> dx     \\forall f(x)\n",
    "\n",
    "w(AR^-1 x, QR^-1 y+) = w(x, y+)\n",
    "\n",
    "w(AR x, QR y+) = w(x, y+)\n",
    "\n",
    "as a result:\n",
    "\n",
    "assuming that x+ = H x, v(x) = w(H x, QH H x) = w(x, H x), then:\n",
    "\n",
    "g(x+) = g(H x) = <f(x), w(x, H x)> dH =\n",
    "\n",
    "assuming that x+ = Q x0, then\n",
    "\n",
    "\\begin{align}\n",
    "g(x+) &= g(Q x0) = <f(y), w(y, Q x0)> dy \\\\\n",
    "    &= <f(y), w(P^{-1} y, x0)> dy \\\\\n",
    "    &= conv(f(y), w(y, x0))(P^{-1})\n",
    "\\end{align}\n",
    "\n",
    "QED\n",
    "\n",
    "\n"
   ]
  },
  {
   "cell_type": "markdown",
   "metadata": {
    "lines_to_next_cell": 2
   },
   "source": [
    "\n",
    "## Data Augmentation - Similarity\n",
    "\n",
    "Hypothesis 2:\n",
    "\n",
    "$$\n",
    "<f_1(x), f_2(x)> dx = k <A_{ug} \\circ f_1(x), A_{ug} \\circ f_2(x)> dx\n",
    "$$\n",
    "\n",
    "OR: inner-product preserving (isometry) + scaling\n",
    "    (I know it sounds even worse, please don't judge me)"
   ]
  },
  {
   "cell_type": "markdown",
   "metadata": {},
   "source": [
    "## Data Augmentation - Put It All Together\n",
    "\n",
    "- linear fully-connected dense\n",
    "\n",
    "\\begin{align}\n",
    "& & U_{ga} \\circ f_+(y) = U_{ga}|_y \\circ <f(x), w(x, y)> dx &= <A_{ug} \\circ f(x), w(x, y)> dx \\\\\n",
    "\\text{(similarity)} \\\\\n",
    "& \\Longrightarrow & <f(x), U_{ga}|_y \\circ w(x, y)> dx &= \\frac{1}{k} <A_{ug}^{-1} \\circ A_{ug} \\circ f(x), A_{ug}^{-1}|_x \\circ w(x, y)> dx \\\\\n",
    "& & &= \\frac{1}{k} <f(x), A_{ug}^{-1}|_x \\circ w(x, y)> dx \\\\\n",
    "\\forall f(x) \\\\\n",
    "& \\Longrightarrow & U_{ga}|_y \\circ w(x, y) &= \\frac{1}{k} A_{ug}^{-1}|_x \\circ w(x, y) \\\\\n",
    "& & & \\text{(lemma of weight sharing!)}\\\\\n",
    "\\end{align}"
   ]
  },
  {
   "cell_type": "markdown",
   "metadata": {},
   "source": [
    "- now assuming that there is a reference point $y_0$\n",
    "    - ... such that for any $y$ there is a data augmentation $\\bar{U}_{ga}$ that satisfy **transitivity**:\n",
    "    \n",
    "    $f_+(y) = \\bar{U}_{ga} \\circ f_+(y_0)$\n",
    "    \n",
    "    $w(x, y) = \\bar{U}_{ga}|_y \\circ w(x, y_0)$\n",
    "\n",
    "\\begin{align}\n",
    "& & f_+(y) &= <f(x), w(x, y)> dx = <f(x), \\bar{U}_{ga}|_y \\circ w(x, y_0)> dx \\\\\n",
    "& \\text{(lemma of weight sharing)} & &= <f(x), \\bar{A}_{ug}^{-1}|_x \\circ w(x, y_0)> dx \\\\\n",
    "& \\text{(similarity)} & &= <\\bar{A}_{ug} \\circ f(x), w(x, z_0)> dx = <\\bar{A}_{ug} \\circ f(x), w_0(x)> dx\n",
    "\\end{align}\n",
    "\n",
    "- looks familiar yet?\n",
    "\n",
    "$$\n",
    "conv(f(- \\Delta), w_0(\\Delta)) = corr(f(\\Delta), w_0(\\Delta)) = \\int_{\\text{Manifold}} f(\\Delta + x) w_0(x) d x = <f(\\Delta + x), w_0(x)> d x\n",
    "$$"
   ]
  },
  {
   "cell_type": "code",
   "execution_count": 12,
   "metadata": {},
   "outputs": [
    {
     "data": {
      "text/plain": [
       "array([[0., 0., 0., 0.],\n",
       "       [0., 0., 0., 0.],\n",
       "       [0., 0., 0., 0.]])"
      ]
     },
     "execution_count": 12,
     "metadata": {},
     "output_type": "execute_result"
    }
   ],
   "source": [
    "import numpy as np\n",
    "\n",
    "left = np.zeros((3, 2))\n",
    "right = np.zeros((2,4))\n",
    "\n",
    "np.matmul(left, right)"
   ]
  },
  {
   "cell_type": "code",
   "execution_count": 1,
   "metadata": {
    "lines_to_next_cell": 3
   },
   "outputs": [
    {
     "ename": "SyntaxError",
     "evalue": "invalid syntax (<ipython-input-1-fc7b90781136>, line 3)",
     "output_type": "error",
     "traceback": [
      "\u001b[0;36m  File \u001b[0;32m\"<ipython-input-1-fc7b90781136>\"\u001b[0;36m, line \u001b[0;32m3\u001b[0m\n\u001b[0;31m    - A monoid is anything compatible with MapReduce\u001b[0m\n\u001b[0m             ^\u001b[0m\n\u001b[0;31mSyntaxError\u001b[0m\u001b[0;31m:\u001b[0m invalid syntax\n"
     ]
    }
   ],
   "source": [
    "## Glossary\n",
    "\n",
    "- A monoid is anything compatible with MapReduce\n",
    "\n",
    "```python\n",
    "apple.merge(pen).merge(pineapple).merge(pen).merge(face).merge(palm) =\n",
    "apple.merge(pen)                    # core 1\n",
    "  .merge(pineapple.merge(pen))      # core 2\n",
    "  .merge(face.merge(palm))          # core 3\n",
    "```"
   ]
  },
  {
   "cell_type": "code",
   "execution_count": null,
   "metadata": {},
   "outputs": [],
   "source": [
    "## Glossary\n",
    "\n",
    "- A group member is an invertible monoid\n",
    "\n",
    "```python\n",
    "pineapplepen.merge(-pen) = pineapple\n",
    "```\n",
    "\n",
    "A commutative (Abelian) monoid/group member is an monoid i which order of reduce doesn't matter\n",
    "\n",
    "```python\n",
    "pineapple.merge(pen) = pen.merge(pineapple)\n",
    "```"
   ]
  }
 ],
 "metadata": {
  "jupytext": {
   "text_representation": {
    "extension": ".py",
    "format_name": "percent",
    "format_version": "1.2",
    "jupytext_version": "0.8.6"
   }
  },
  "kernelspec": {
   "display_name": "Python 3",
   "language": "python",
   "name": "python3"
  },
  "language_info": {
   "codemirror_mode": {
    "name": "ipython",
    "version": 3
   },
   "file_extension": ".py",
   "mimetype": "text/x-python",
   "name": "python",
   "nbconvert_exporter": "python",
   "pygments_lexer": "ipython3",
   "version": "3.6.8"
  }
 },
 "nbformat": 4,
 "nbformat_minor": 2
}
