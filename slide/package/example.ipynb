{
 "cells": [
  {
   "cell_type": "code",
   "execution_count": 1,
   "metadata": {
    "lines_to_next_cell": 0
   },
   "outputs": [
    {
     "name": "stdout",
     "output_type": "stream",
     "text": [
      "['', '/home/shared/anaconda3/lib/python36.zip', '/home/shared/anaconda3/lib/python3.6', '/home/shared/anaconda3/lib/python3.6/lib-dynload', '/home/peng/.local/lib/python3.6/site-packages', '/home/shared/anaconda3/lib/python3.6/site-packages', '/home/shared/anaconda3/lib/python3.6/site-packages/IPython/extensions', '/home/peng/.ipython']\n",
      "\n",
      "/home/shared/anaconda3/lib/python36.zip\n",
      "/home/shared/anaconda3/lib/python3.6\n",
      "/home/shared/anaconda3/lib/python3.6/lib-dynload\n",
      "/home/peng/.local/lib/python3.6/site-packages\n",
      "/home/shared/anaconda3/lib/python3.6/site-packages\n",
      "/home/shared/anaconda3/lib/python3.6/site-packages/IPython/extensions\n",
      "/home/peng/.ipython\n",
      "=================\n",
      "/home/peng/git/convnet-abstraction/slide/package/networkx.py\n"
     ]
    },
    {
     "ename": "ImportError",
     "evalue": "cannot import name 'drawing'",
     "output_type": "error",
     "traceback": [
      "\u001b[0;31m---------------------------------------------------------------------------\u001b[0m",
      "\u001b[0;31mImportError\u001b[0m                               Traceback (most recent call last)",
      "\u001b[0;32m<ipython-input-1-72238d8fee64>\u001b[0m in \u001b[0;36m<module>\u001b[0;34m\u001b[0m\n\u001b[1;32m     13\u001b[0m \u001b[0mprint\u001b[0m\u001b[0;34m(\u001b[0m\u001b[0mos\u001b[0m\u001b[0;34m.\u001b[0m\u001b[0mpath\u001b[0m\u001b[0;34m.\u001b[0m\u001b[0mabspath\u001b[0m\u001b[0;34m(\u001b[0m\u001b[0mnetworkx\u001b[0m\u001b[0;34m.\u001b[0m\u001b[0m__file__\u001b[0m\u001b[0;34m)\u001b[0m\u001b[0;34m)\u001b[0m\u001b[0;34m\u001b[0m\u001b[0;34m\u001b[0m\u001b[0m\n\u001b[1;32m     14\u001b[0m \u001b[0;34m\u001b[0m\u001b[0m\n\u001b[0;32m---> 15\u001b[0;31m \u001b[0;32mfrom\u001b[0m \u001b[0mnetworkx\u001b[0m \u001b[0;32mimport\u001b[0m \u001b[0mdrawing\u001b[0m\u001b[0;34m\u001b[0m\u001b[0;34m\u001b[0m\u001b[0m\n\u001b[0m",
      "\u001b[0;31mImportError\u001b[0m: cannot import name 'drawing'"
     ]
    }
   ],
   "source": [
    "from __future__ import absolute_import\n",
    "import os\n",
    "import sys\n",
    "    \n",
    "\n",
    "print(sys.path)\n",
    "for p in sys.path:\n",
    "    print(p)\n",
    "\n",
    "print(\"=================\")\n",
    "\n",
    "import networkx\n",
    "print(os.path.abspath(networkx.__file__))\n",
    "\n",
    "from networkx import drawing"
   ]
  },
  {
   "cell_type": "code",
   "execution_count": null,
   "metadata": {
    "lines_to_next_cell": 2
   },
   "outputs": [],
   "source": []
  }
 ],
 "metadata": {
  "jupytext": {
   "text_representation": {
    "extension": ".py",
    "format_name": "light",
    "format_version": "1.3",
    "jupytext_version": "0.8.6"
   }
  },
  "kernelspec": {
   "display_name": "Python 3",
   "language": "python",
   "name": "python3"
  },
  "language_info": {
   "codemirror_mode": {
    "name": "ipython",
    "version": 3
   },
   "file_extension": ".py",
   "mimetype": "text/x-python",
   "name": "python",
   "nbconvert_exporter": "python",
   "pygments_lexer": "ipython3",
   "version": "3.6.7"
  }
 },
 "nbformat": 4,
 "nbformat_minor": 2
}
