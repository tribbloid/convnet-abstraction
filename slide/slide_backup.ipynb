{
 "cells": [
  {
   "cell_type": "markdown",
   "metadata": {},
   "source": [
    "## Equivariance\n",
    "\n",
    "input f(x): (F = R^n => S) (can be a graph, use R^n for generalisability)\n",
    "fully connected layer w(x, x+): R^n x R^n => S\n",
    "morphing operator: A {f(x)} = AL(f(AR(x))): F => F\n",
    "\n",
    "output g(x+): R^n => S = <f(x), w(x, x+)> dx\n",
    "\n",
    "equivariant condition: <A {f(x)}, w(x, x+)> dx = Q {<f(x), w(x, x+)> dx}    \\forall f(x)\n",
    "\n",
    "assuming only AR is in consideration (e.g. a translation):\n",
    "\n",
    "<f(AR x), w(x, x+)> dx = <f(x), w(x, QR x+))> dx\n",
    "\n",
    "<f(x), w(AR^-1 x, x+)> dx = <f(x), w(x, QR x+))> dx     \\forall f(x)\n",
    "\n",
    "<f(x), w(AR^-1 x, QR^-1 y+)> dx = <f(x), w(x, y+))> dx     \\forall f(x)\n",
    "\n",
    "w(AR^-1 x, QR^-1 y+) = w(x, y+)\n",
    "\n",
    "w(AR x, QR y+) = w(x, y+)\n",
    "\n",
    "as a result:\n",
    "\n",
    "assuming that x+ = H x, v(x) = w(H x, QH H x) = w(x, H x), then:\n",
    "\n",
    "g(x+) = g(H x) = <f(x), w(x, H x)> dH =\n",
    "\n",
    "assuming that x+ = Q x0, then\n",
    "\n",
    "\\begin{align}\n",
    "g(x+) &= g(Q x0) = <f(y), w(y, Q x0)> dy \\\\\n",
    "    &= <f(y), w(P^{-1} y, x0)> dy \\\\\n",
    "    &= conv(f(y), w(y, x0))(P^{-1})\n",
    "\\end{align}\n",
    "\n",
    "QED\n",
    "\n",
    "\n"
   ]
  },
  {
   "cell_type": "code",
   "execution_count": null,
   "metadata": {},
   "outputs": [],
   "source": []
  }
 ],
 "metadata": {
  "jupytext": {
   "main_language": "python",
   "text_representation": {
    "extension": ".py",
    "format_name": "percent",
    "format_version": "1.2",
    "jupytext_version": "0.8.6"
   }
  },
  "kernelspec": {
   "display_name": "Python 3",
   "language": "python",
   "name": "python3"
  },
  "language_info": {
   "codemirror_mode": {
    "name": "ipython",
    "version": 3
   },
   "file_extension": ".py",
   "mimetype": "text/x-python",
   "name": "python",
   "nbconvert_exporter": "python",
   "pygments_lexer": "ipython3",
   "version": "3.6.7"
  }
 },
 "nbformat": 4,
 "nbformat_minor": 2
}
